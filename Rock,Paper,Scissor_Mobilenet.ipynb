{
  "nbformat": 4,
  "nbformat_minor": 0,
  "metadata": {
    "colab": {
      "name": "Rock,Paper,Scissor_Mobilenet.ipynb",
      "provenance": [],
      "collapsed_sections": []
    },
    "kernelspec": {
      "name": "python3",
      "display_name": "Python 3"
    }
  },
  "cells": [
    {
      "cell_type": "code",
      "metadata": {
        "id": "L550X4rNKajk",
        "colab": {
          "base_uri": "https://localhost:8080/"
        },
        "outputId": "2b8dc81c-63ef-40fa-82fb-eab198733767"
      },
      "source": [
        "from google.colab import drive\n",
        "drive.mount('/content/drive')"
      ],
      "execution_count": null,
      "outputs": [
        {
          "output_type": "stream",
          "text": [
            "Mounted at /content/drive\n"
          ],
          "name": "stdout"
        }
      ]
    },
    {
      "cell_type": "code",
      "metadata": {
        "id": "rsvpxziKKmTs"
      },
      "source": [
        "#import needed packages\n",
        "import cv2\n",
        "import numpy as np\n",
        "import tensorflow as tf\n",
        "import keras\n",
        "from keras import backend as K\n",
        "from keras.optimizers import Adam\n",
        "from keras.metrics import categorical_crossentropy\n",
        "from keras.preprocessing.image import ImageDataGenerator\n",
        "from keras.models import Model\n",
        "from keras.layers import Dense,GlobalAveragePooling2D,Dropout,SeparableConv2D,BatchNormalization, Activation, Dense\n",
        "from keras.applications.mobilenet import MobileNet\n",
        "from keras.optimizers import Adam"
      ],
      "execution_count": null,
      "outputs": []
    },
    {
      "cell_type": "code",
      "metadata": {
        "colab": {
          "base_uri": "https://localhost:8080/"
        },
        "id": "Bc1dlzuPuO0b",
        "outputId": "f370b0e4-2b44-4593-ae1d-6a5f0e71bc41"
      },
      "source": [
        "# Base model without Fully connected Layers\n",
        "base_model = MobileNet(include_top=False, weights='imagenet', input_shape=(224,224,3))\n",
        "x=base_model.output"
      ],
      "execution_count": null,
      "outputs": [
        {
          "output_type": "stream",
          "text": [
            "Downloading data from https://storage.googleapis.com/tensorflow/keras-applications/mobilenet/mobilenet_1_0_224_tf_no_top.h5\n",
            "17227776/17225924 [==============================] - 0s 0us/step\n"
          ],
          "name": "stdout"
        }
      ]
    },
    {
      "cell_type": "code",
      "metadata": {
        "id": "05rc1PclKtJP"
      },
      "source": [
        "num_class = 3\n",
        "\n",
        "# Add some new Fully connected layers to \n",
        "x=GlobalAveragePooling2D()(x)\n",
        "x=Dense(1024,activation='relu')(x)\n",
        "x = Dropout(0.25)(x)\n",
        "x=Dense(512,activation='relu')(x) \n",
        "x = Dropout(0.25)(x)\n",
        "preds=Dense(num_class, activation='softmax')(x) #final layer with softmax activation\n",
        "\n",
        "model=Model(inputs=base_model.input,outputs=preds)"
      ],
      "execution_count": null,
      "outputs": []
    },
    {
      "cell_type": "code",
      "metadata": {
        "id": "DnSW5gYqK4MS",
        "colab": {
          "base_uri": "https://localhost:8080/"
        },
        "outputId": "880bf7d6-d5fa-485f-848b-7110158c377d"
      },
      "source": [
        "model.summary()"
      ],
      "execution_count": null,
      "outputs": [
        {
          "output_type": "stream",
          "text": [
            "Model: \"model\"\n",
            "_________________________________________________________________\n",
            "Layer (type)                 Output Shape              Param #   \n",
            "=================================================================\n",
            "input_1 (InputLayer)         [(None, 224, 224, 3)]     0         \n",
            "_________________________________________________________________\n",
            "conv1 (Conv2D)               (None, 112, 112, 32)      864       \n",
            "_________________________________________________________________\n",
            "conv1_bn (BatchNormalization (None, 112, 112, 32)      128       \n",
            "_________________________________________________________________\n",
            "conv1_relu (ReLU)            (None, 112, 112, 32)      0         \n",
            "_________________________________________________________________\n",
            "conv_dw_1 (DepthwiseConv2D)  (None, 112, 112, 32)      288       \n",
            "_________________________________________________________________\n",
            "conv_dw_1_bn (BatchNormaliza (None, 112, 112, 32)      128       \n",
            "_________________________________________________________________\n",
            "conv_dw_1_relu (ReLU)        (None, 112, 112, 32)      0         \n",
            "_________________________________________________________________\n",
            "conv_pw_1 (Conv2D)           (None, 112, 112, 64)      2048      \n",
            "_________________________________________________________________\n",
            "conv_pw_1_bn (BatchNormaliza (None, 112, 112, 64)      256       \n",
            "_________________________________________________________________\n",
            "conv_pw_1_relu (ReLU)        (None, 112, 112, 64)      0         \n",
            "_________________________________________________________________\n",
            "conv_pad_2 (ZeroPadding2D)   (None, 113, 113, 64)      0         \n",
            "_________________________________________________________________\n",
            "conv_dw_2 (DepthwiseConv2D)  (None, 56, 56, 64)        576       \n",
            "_________________________________________________________________\n",
            "conv_dw_2_bn (BatchNormaliza (None, 56, 56, 64)        256       \n",
            "_________________________________________________________________\n",
            "conv_dw_2_relu (ReLU)        (None, 56, 56, 64)        0         \n",
            "_________________________________________________________________\n",
            "conv_pw_2 (Conv2D)           (None, 56, 56, 128)       8192      \n",
            "_________________________________________________________________\n",
            "conv_pw_2_bn (BatchNormaliza (None, 56, 56, 128)       512       \n",
            "_________________________________________________________________\n",
            "conv_pw_2_relu (ReLU)        (None, 56, 56, 128)       0         \n",
            "_________________________________________________________________\n",
            "conv_dw_3 (DepthwiseConv2D)  (None, 56, 56, 128)       1152      \n",
            "_________________________________________________________________\n",
            "conv_dw_3_bn (BatchNormaliza (None, 56, 56, 128)       512       \n",
            "_________________________________________________________________\n",
            "conv_dw_3_relu (ReLU)        (None, 56, 56, 128)       0         \n",
            "_________________________________________________________________\n",
            "conv_pw_3 (Conv2D)           (None, 56, 56, 128)       16384     \n",
            "_________________________________________________________________\n",
            "conv_pw_3_bn (BatchNormaliza (None, 56, 56, 128)       512       \n",
            "_________________________________________________________________\n",
            "conv_pw_3_relu (ReLU)        (None, 56, 56, 128)       0         \n",
            "_________________________________________________________________\n",
            "conv_pad_4 (ZeroPadding2D)   (None, 57, 57, 128)       0         \n",
            "_________________________________________________________________\n",
            "conv_dw_4 (DepthwiseConv2D)  (None, 28, 28, 128)       1152      \n",
            "_________________________________________________________________\n",
            "conv_dw_4_bn (BatchNormaliza (None, 28, 28, 128)       512       \n",
            "_________________________________________________________________\n",
            "conv_dw_4_relu (ReLU)        (None, 28, 28, 128)       0         \n",
            "_________________________________________________________________\n",
            "conv_pw_4 (Conv2D)           (None, 28, 28, 256)       32768     \n",
            "_________________________________________________________________\n",
            "conv_pw_4_bn (BatchNormaliza (None, 28, 28, 256)       1024      \n",
            "_________________________________________________________________\n",
            "conv_pw_4_relu (ReLU)        (None, 28, 28, 256)       0         \n",
            "_________________________________________________________________\n",
            "conv_dw_5 (DepthwiseConv2D)  (None, 28, 28, 256)       2304      \n",
            "_________________________________________________________________\n",
            "conv_dw_5_bn (BatchNormaliza (None, 28, 28, 256)       1024      \n",
            "_________________________________________________________________\n",
            "conv_dw_5_relu (ReLU)        (None, 28, 28, 256)       0         \n",
            "_________________________________________________________________\n",
            "conv_pw_5 (Conv2D)           (None, 28, 28, 256)       65536     \n",
            "_________________________________________________________________\n",
            "conv_pw_5_bn (BatchNormaliza (None, 28, 28, 256)       1024      \n",
            "_________________________________________________________________\n",
            "conv_pw_5_relu (ReLU)        (None, 28, 28, 256)       0         \n",
            "_________________________________________________________________\n",
            "conv_pad_6 (ZeroPadding2D)   (None, 29, 29, 256)       0         \n",
            "_________________________________________________________________\n",
            "conv_dw_6 (DepthwiseConv2D)  (None, 14, 14, 256)       2304      \n",
            "_________________________________________________________________\n",
            "conv_dw_6_bn (BatchNormaliza (None, 14, 14, 256)       1024      \n",
            "_________________________________________________________________\n",
            "conv_dw_6_relu (ReLU)        (None, 14, 14, 256)       0         \n",
            "_________________________________________________________________\n",
            "conv_pw_6 (Conv2D)           (None, 14, 14, 512)       131072    \n",
            "_________________________________________________________________\n",
            "conv_pw_6_bn (BatchNormaliza (None, 14, 14, 512)       2048      \n",
            "_________________________________________________________________\n",
            "conv_pw_6_relu (ReLU)        (None, 14, 14, 512)       0         \n",
            "_________________________________________________________________\n",
            "conv_dw_7 (DepthwiseConv2D)  (None, 14, 14, 512)       4608      \n",
            "_________________________________________________________________\n",
            "conv_dw_7_bn (BatchNormaliza (None, 14, 14, 512)       2048      \n",
            "_________________________________________________________________\n",
            "conv_dw_7_relu (ReLU)        (None, 14, 14, 512)       0         \n",
            "_________________________________________________________________\n",
            "conv_pw_7 (Conv2D)           (None, 14, 14, 512)       262144    \n",
            "_________________________________________________________________\n",
            "conv_pw_7_bn (BatchNormaliza (None, 14, 14, 512)       2048      \n",
            "_________________________________________________________________\n",
            "conv_pw_7_relu (ReLU)        (None, 14, 14, 512)       0         \n",
            "_________________________________________________________________\n",
            "conv_dw_8 (DepthwiseConv2D)  (None, 14, 14, 512)       4608      \n",
            "_________________________________________________________________\n",
            "conv_dw_8_bn (BatchNormaliza (None, 14, 14, 512)       2048      \n",
            "_________________________________________________________________\n",
            "conv_dw_8_relu (ReLU)        (None, 14, 14, 512)       0         \n",
            "_________________________________________________________________\n",
            "conv_pw_8 (Conv2D)           (None, 14, 14, 512)       262144    \n",
            "_________________________________________________________________\n",
            "conv_pw_8_bn (BatchNormaliza (None, 14, 14, 512)       2048      \n",
            "_________________________________________________________________\n",
            "conv_pw_8_relu (ReLU)        (None, 14, 14, 512)       0         \n",
            "_________________________________________________________________\n",
            "conv_dw_9 (DepthwiseConv2D)  (None, 14, 14, 512)       4608      \n",
            "_________________________________________________________________\n",
            "conv_dw_9_bn (BatchNormaliza (None, 14, 14, 512)       2048      \n",
            "_________________________________________________________________\n",
            "conv_dw_9_relu (ReLU)        (None, 14, 14, 512)       0         \n",
            "_________________________________________________________________\n",
            "conv_pw_9 (Conv2D)           (None, 14, 14, 512)       262144    \n",
            "_________________________________________________________________\n",
            "conv_pw_9_bn (BatchNormaliza (None, 14, 14, 512)       2048      \n",
            "_________________________________________________________________\n",
            "conv_pw_9_relu (ReLU)        (None, 14, 14, 512)       0         \n",
            "_________________________________________________________________\n",
            "conv_dw_10 (DepthwiseConv2D) (None, 14, 14, 512)       4608      \n",
            "_________________________________________________________________\n",
            "conv_dw_10_bn (BatchNormaliz (None, 14, 14, 512)       2048      \n",
            "_________________________________________________________________\n",
            "conv_dw_10_relu (ReLU)       (None, 14, 14, 512)       0         \n",
            "_________________________________________________________________\n",
            "conv_pw_10 (Conv2D)          (None, 14, 14, 512)       262144    \n",
            "_________________________________________________________________\n",
            "conv_pw_10_bn (BatchNormaliz (None, 14, 14, 512)       2048      \n",
            "_________________________________________________________________\n",
            "conv_pw_10_relu (ReLU)       (None, 14, 14, 512)       0         \n",
            "_________________________________________________________________\n",
            "conv_dw_11 (DepthwiseConv2D) (None, 14, 14, 512)       4608      \n",
            "_________________________________________________________________\n",
            "conv_dw_11_bn (BatchNormaliz (None, 14, 14, 512)       2048      \n",
            "_________________________________________________________________\n",
            "conv_dw_11_relu (ReLU)       (None, 14, 14, 512)       0         \n",
            "_________________________________________________________________\n",
            "conv_pw_11 (Conv2D)          (None, 14, 14, 512)       262144    \n",
            "_________________________________________________________________\n",
            "conv_pw_11_bn (BatchNormaliz (None, 14, 14, 512)       2048      \n",
            "_________________________________________________________________\n",
            "conv_pw_11_relu (ReLU)       (None, 14, 14, 512)       0         \n",
            "_________________________________________________________________\n",
            "conv_pad_12 (ZeroPadding2D)  (None, 15, 15, 512)       0         \n",
            "_________________________________________________________________\n",
            "conv_dw_12 (DepthwiseConv2D) (None, 7, 7, 512)         4608      \n",
            "_________________________________________________________________\n",
            "conv_dw_12_bn (BatchNormaliz (None, 7, 7, 512)         2048      \n",
            "_________________________________________________________________\n",
            "conv_dw_12_relu (ReLU)       (None, 7, 7, 512)         0         \n",
            "_________________________________________________________________\n",
            "conv_pw_12 (Conv2D)          (None, 7, 7, 1024)        524288    \n",
            "_________________________________________________________________\n",
            "conv_pw_12_bn (BatchNormaliz (None, 7, 7, 1024)        4096      \n",
            "_________________________________________________________________\n",
            "conv_pw_12_relu (ReLU)       (None, 7, 7, 1024)        0         \n",
            "_________________________________________________________________\n",
            "conv_dw_13 (DepthwiseConv2D) (None, 7, 7, 1024)        9216      \n",
            "_________________________________________________________________\n",
            "conv_dw_13_bn (BatchNormaliz (None, 7, 7, 1024)        4096      \n",
            "_________________________________________________________________\n",
            "conv_dw_13_relu (ReLU)       (None, 7, 7, 1024)        0         \n",
            "_________________________________________________________________\n",
            "conv_pw_13 (Conv2D)          (None, 7, 7, 1024)        1048576   \n",
            "_________________________________________________________________\n",
            "conv_pw_13_bn (BatchNormaliz (None, 7, 7, 1024)        4096      \n",
            "_________________________________________________________________\n",
            "conv_pw_13_relu (ReLU)       (None, 7, 7, 1024)        0         \n",
            "_________________________________________________________________\n",
            "global_average_pooling2d (Gl (None, 1024)              0         \n",
            "_________________________________________________________________\n",
            "dense (Dense)                (None, 1024)              1049600   \n",
            "_________________________________________________________________\n",
            "dropout (Dropout)            (None, 1024)              0         \n",
            "_________________________________________________________________\n",
            "dense_1 (Dense)              (None, 512)               524800    \n",
            "_________________________________________________________________\n",
            "dropout_1 (Dropout)          (None, 512)               0         \n",
            "_________________________________________________________________\n",
            "dense_2 (Dense)              (None, 3)                 1539      \n",
            "=================================================================\n",
            "Total params: 4,804,803\n",
            "Trainable params: 4,782,915\n",
            "Non-trainable params: 21,888\n",
            "_________________________________________________________________\n"
          ],
          "name": "stdout"
        }
      ]
    },
    {
      "cell_type": "code",
      "metadata": {
        "id": "qug9BxujK5E-",
        "colab": {
          "base_uri": "https://localhost:8080/"
        },
        "outputId": "600b41c7-fdc0-4c00-cede-82b6e7bf6a94"
      },
      "source": [
        "for i,layer in enumerate(model.layers):\n",
        "  print(\"{}: {}\".format(i,layer))"
      ],
      "execution_count": null,
      "outputs": [
        {
          "output_type": "stream",
          "text": [
            "0: <tensorflow.python.keras.engine.input_layer.InputLayer object at 0x7f4f5303af98>\n",
            "1: <tensorflow.python.keras.layers.convolutional.Conv2D object at 0x7f4f528ff588>\n",
            "2: <tensorflow.python.keras.layers.normalization_v2.BatchNormalization object at 0x7f4f528fffd0>\n",
            "3: <tensorflow.python.keras.layers.advanced_activations.ReLU object at 0x7f4f520dceb8>\n",
            "4: <tensorflow.python.keras.layers.convolutional.DepthwiseConv2D object at 0x7f4f4e9b7f60>\n",
            "5: <tensorflow.python.keras.layers.normalization_v2.BatchNormalization object at 0x7f4f4e9cc358>\n",
            "6: <tensorflow.python.keras.layers.advanced_activations.ReLU object at 0x7f4f4e9cc7f0>\n",
            "7: <tensorflow.python.keras.layers.convolutional.Conv2D object at 0x7f4f4e9d5160>\n",
            "8: <tensorflow.python.keras.layers.normalization_v2.BatchNormalization object at 0x7f4f4e95b358>\n",
            "9: <tensorflow.python.keras.layers.advanced_activations.ReLU object at 0x7f4f4e95b9e8>\n",
            "10: <tensorflow.python.keras.layers.convolutional.ZeroPadding2D object at 0x7f4f4e961f28>\n",
            "11: <tensorflow.python.keras.layers.convolutional.DepthwiseConv2D object at 0x7f4f4e9689b0>\n",
            "12: <tensorflow.python.keras.layers.normalization_v2.BatchNormalization object at 0x7f4f4e96f630>\n",
            "13: <tensorflow.python.keras.layers.advanced_activations.ReLU object at 0x7f4f4e96fd30>\n",
            "14: <tensorflow.python.keras.layers.convolutional.Conv2D object at 0x7f4f4e9780b8>\n",
            "15: <tensorflow.python.keras.layers.normalization_v2.BatchNormalization object at 0x7f4f4e97c5f8>\n",
            "16: <tensorflow.python.keras.layers.advanced_activations.ReLU object at 0x7f4f4e97cfd0>\n",
            "17: <tensorflow.python.keras.layers.convolutional.DepthwiseConv2D object at 0x7f4f4e98d0f0>\n",
            "18: <tensorflow.python.keras.layers.normalization_v2.BatchNormalization object at 0x7f4f4e98ddd8>\n",
            "19: <tensorflow.python.keras.layers.advanced_activations.ReLU object at 0x7f4f4e991e80>\n",
            "20: <tensorflow.python.keras.layers.convolutional.Conv2D object at 0x7f4f4e986b38>\n",
            "21: <tensorflow.python.keras.layers.normalization_v2.BatchNormalization object at 0x7f4f4e91c4e0>\n",
            "22: <tensorflow.python.keras.layers.advanced_activations.ReLU object at 0x7f4f4e924320>\n",
            "23: <tensorflow.python.keras.layers.convolutional.ZeroPadding2D object at 0x7f4f4e9241d0>\n",
            "24: <tensorflow.python.keras.layers.convolutional.DepthwiseConv2D object at 0x7f4f4e986278>\n",
            "25: <tensorflow.python.keras.layers.normalization_v2.BatchNormalization object at 0x7f4f4e997fd0>\n",
            "26: <tensorflow.python.keras.layers.advanced_activations.ReLU object at 0x7f4f4e92eeb8>\n",
            "27: <tensorflow.python.keras.layers.convolutional.Conv2D object at 0x7f4f4e924160>\n",
            "28: <tensorflow.python.keras.layers.normalization_v2.BatchNormalization object at 0x7f4f4e91c0b8>\n",
            "29: <tensorflow.python.keras.layers.advanced_activations.ReLU object at 0x7f4f4e9477b8>\n",
            "30: <tensorflow.python.keras.layers.convolutional.DepthwiseConv2D object at 0x7f4f4e91cb38>\n",
            "31: <tensorflow.python.keras.layers.normalization_v2.BatchNormalization object at 0x7f4f4e935b70>\n",
            "32: <tensorflow.python.keras.layers.advanced_activations.ReLU object at 0x7f4f4e955390>\n",
            "33: <tensorflow.python.keras.layers.convolutional.Conv2D object at 0x7f4f4e9474a8>\n",
            "34: <tensorflow.python.keras.layers.normalization_v2.BatchNormalization object at 0x7f4f4e924940>\n",
            "35: <tensorflow.python.keras.layers.advanced_activations.ReLU object at 0x7f4f4e8e1f60>\n",
            "36: <tensorflow.python.keras.layers.convolutional.ZeroPadding2D object at 0x7f4f4e8e55c0>\n",
            "37: <tensorflow.python.keras.layers.convolutional.DepthwiseConv2D object at 0x7f4f4e9242b0>\n",
            "38: <tensorflow.python.keras.layers.normalization_v2.BatchNormalization object at 0x7f4f4e952a90>\n",
            "39: <tensorflow.python.keras.layers.advanced_activations.ReLU object at 0x7f4f4e8f1048>\n",
            "40: <tensorflow.python.keras.layers.convolutional.Conv2D object at 0x7f4f4e8fbf98>\n",
            "41: <tensorflow.python.keras.layers.normalization_v2.BatchNormalization object at 0x7f4f4e8fb860>\n",
            "42: <tensorflow.python.keras.layers.advanced_activations.ReLU object at 0x7f4f4e8f1630>\n",
            "43: <tensorflow.python.keras.layers.convolutional.DepthwiseConv2D object at 0x7f4f4e986550>\n",
            "44: <tensorflow.python.keras.layers.normalization_v2.BatchNormalization object at 0x7f4f4e902748>\n",
            "45: <tensorflow.python.keras.layers.advanced_activations.ReLU object at 0x7f4f4e90d2b0>\n",
            "46: <tensorflow.python.keras.layers.convolutional.Conv2D object at 0x7f4f4e93d908>\n",
            "47: <tensorflow.python.keras.layers.normalization_v2.BatchNormalization object at 0x7f4f4e9184e0>\n",
            "48: <tensorflow.python.keras.layers.advanced_activations.ReLU object at 0x7f4f4e918080>\n",
            "49: <tensorflow.python.keras.layers.convolutional.DepthwiseConv2D object at 0x7f4f4e8f18d0>\n",
            "50: <tensorflow.python.keras.layers.normalization_v2.BatchNormalization object at 0x7f4f4e918be0>\n",
            "51: <tensorflow.python.keras.layers.advanced_activations.ReLU object at 0x7f4f4e955748>\n",
            "52: <tensorflow.python.keras.layers.convolutional.Conv2D object at 0x7f4f4e8f1198>\n",
            "53: <tensorflow.python.keras.layers.normalization_v2.BatchNormalization object at 0x7f4f4e918e80>\n",
            "54: <tensorflow.python.keras.layers.advanced_activations.ReLU object at 0x7f4f4e947f98>\n",
            "55: <tensorflow.python.keras.layers.convolutional.DepthwiseConv2D object at 0x7f4f4e90d160>\n",
            "56: <tensorflow.python.keras.layers.normalization_v2.BatchNormalization object at 0x7f4f4e955160>\n",
            "57: <tensorflow.python.keras.layers.advanced_activations.ReLU object at 0x7f4f4e91ccc0>\n",
            "58: <tensorflow.python.keras.layers.convolutional.Conv2D object at 0x7f4f4e947080>\n",
            "59: <tensorflow.python.keras.layers.normalization_v2.BatchNormalization object at 0x7f4f4e952f98>\n",
            "60: <tensorflow.python.keras.layers.advanced_activations.ReLU object at 0x7f4f4e986c88>\n",
            "61: <tensorflow.python.keras.layers.convolutional.DepthwiseConv2D object at 0x7f4f4e978d30>\n",
            "62: <tensorflow.python.keras.layers.normalization_v2.BatchNormalization object at 0x7f4f4e91cfd0>\n",
            "63: <tensorflow.python.keras.layers.advanced_activations.ReLU object at 0x7f4f4e97c2e8>\n",
            "64: <tensorflow.python.keras.layers.convolutional.Conv2D object at 0x7f4f4e91cb00>\n",
            "65: <tensorflow.python.keras.layers.normalization_v2.BatchNormalization object at 0x7f4f4e89e550>\n",
            "66: <tensorflow.python.keras.layers.advanced_activations.ReLU object at 0x7f4f4e961b70>\n",
            "67: <tensorflow.python.keras.layers.convolutional.DepthwiseConv2D object at 0x7f4f4e8f16a0>\n",
            "68: <tensorflow.python.keras.layers.normalization_v2.BatchNormalization object at 0x7f4f4e92e0f0>\n",
            "69: <tensorflow.python.keras.layers.advanced_activations.ReLU object at 0x7f4f4e8b5e48>\n",
            "70: <tensorflow.python.keras.layers.convolutional.Conv2D object at 0x7f4f4e95be48>\n",
            "71: <tensorflow.python.keras.layers.normalization_v2.BatchNormalization object at 0x7f4f4e89ef60>\n",
            "72: <tensorflow.python.keras.layers.advanced_activations.ReLU object at 0x7f4f4e8c4dd8>\n",
            "73: <tensorflow.python.keras.layers.convolutional.ZeroPadding2D object at 0x7f4f4e8cc978>\n",
            "74: <tensorflow.python.keras.layers.convolutional.DepthwiseConv2D object at 0x7f4f4e978a20>\n",
            "75: <tensorflow.python.keras.layers.normalization_v2.BatchNormalization object at 0x7f4f4e8b5fd0>\n",
            "76: <tensorflow.python.keras.layers.advanced_activations.ReLU object at 0x7f4f4e85f6d8>\n",
            "77: <tensorflow.python.keras.layers.convolutional.Conv2D object at 0x7f4f4e8cc940>\n",
            "78: <tensorflow.python.keras.layers.normalization_v2.BatchNormalization object at 0x7f4f4e8c4c50>\n",
            "79: <tensorflow.python.keras.layers.advanced_activations.ReLU object at 0x7f4f4e86d128>\n",
            "80: <tensorflow.python.keras.layers.convolutional.DepthwiseConv2D object at 0x7f4f4e902d68>\n",
            "81: <tensorflow.python.keras.layers.normalization_v2.BatchNormalization object at 0x7f4f4e866d68>\n",
            "82: <tensorflow.python.keras.layers.advanced_activations.ReLU object at 0x7f4f4e87f240>\n",
            "83: <tensorflow.python.keras.layers.convolutional.Conv2D object at 0x7f4f4e85fcc0>\n",
            "84: <tensorflow.python.keras.layers.normalization_v2.BatchNormalization object at 0x7f4f4e866780>\n",
            "85: <tensorflow.python.keras.layers.advanced_activations.ReLU object at 0x7f4f4e8906d8>\n",
            "86: <tensorflow.python.keras.layers.pooling.GlobalAveragePooling2D object at 0x7f4f4e866a58>\n",
            "87: <tensorflow.python.keras.layers.core.Dense object at 0x7f4f62368898>\n",
            "88: <tensorflow.python.keras.layers.core.Dropout object at 0x7f4f4e86dd68>\n",
            "89: <tensorflow.python.keras.layers.core.Dense object at 0x7f4f4e86de10>\n",
            "90: <tensorflow.python.keras.layers.core.Dropout object at 0x7f4f5b54a550>\n",
            "91: <tensorflow.python.keras.layers.core.Dense object at 0x7f4f4e96fcc0>\n"
          ],
          "name": "stdout"
        }
      ]
    },
    {
      "cell_type": "code",
      "metadata": {
        "id": "Y0L6FeawK7na"
      },
      "source": [
        "for layer in model.layers[:87]:\n",
        "    layer.trainable=False\n",
        "for layer in model.layers[87:]:\n",
        "    layer.trainable=True"
      ],
      "execution_count": null,
      "outputs": []
    },
    {
      "cell_type": "code",
      "metadata": {
        "id": "9bC0qyzJK98q",
        "colab": {
          "base_uri": "https://localhost:8080/"
        },
        "outputId": "02788302-6346-4b53-a868-4097c579926c"
      },
      "source": [
        "train_datagen=ImageDataGenerator(preprocessing_function=keras.applications.mobilenet.preprocess_input,\n",
        "                                 validation_split=0.4)\n",
        "\n",
        "train_generator=train_datagen.flow_from_directory('/content/drive/My Drive/Dataset',\n",
        "                                                 target_size=(224,224),\n",
        "                                                 batch_size=64,\n",
        "                                                 class_mode='categorical',\n",
        "                                                 subset='training')\n",
        "\n",
        "\n",
        "validation_generator = train_datagen.flow_from_directory('/content/drive/My Drive/Dataset', # same directory as training data\n",
        "                                                target_size=(224,224),\n",
        "                                                batch_size=64,\n",
        "                                                class_mode='categorical',\n",
        "                                                subset='validation') # set as validation data"
      ],
      "execution_count": null,
      "outputs": [
        {
          "output_type": "stream",
          "text": [
            "Found 108 images belonging to 3 classes.\n",
            "Found 72 images belonging to 3 classes.\n"
          ],
          "name": "stdout"
        }
      ]
    },
    {
      "cell_type": "code",
      "metadata": {
        "id": "2Se_dkJMLRIi"
      },
      "source": [
        "epochs = 50\n",
        "learning_rate = 0.0005\n",
        "decay_rate = learning_rate / epochs\n",
        "opt = Adam(lr=learning_rate, beta_1=0.9, beta_2=0.999, epsilon=None, decay=decay_rate, amsgrad=False)\n",
        "model.compile(optimizer=opt,loss='categorical_crossentropy',metrics=['accuracy'])\n"
      ],
      "execution_count": null,
      "outputs": []
    },
    {
      "cell_type": "code",
      "metadata": {
        "id": "V8KdesxTLajG",
        "colab": {
          "base_uri": "https://localhost:8080/"
        },
        "outputId": "8d4e2a27-472c-49b8-e2f7-40841c9c8462"
      },
      "source": [
        "step_size_train = train_generator.n/train_generator.batch_size\n",
        "step_size_val = validation_generator.samples // validation_generator.batch_size\n",
        "history = model.fit_generator(\n",
        "                   generator=train_generator,\n",
        "                   steps_per_epoch=step_size_train,\n",
        "                   validation_data = validation_generator, \n",
        "                   validation_steps=step_size_val,\n",
        "                   \n",
        "                   epochs=10)\n",
        "model.save('rockpaper.h5')"
      ],
      "execution_count": null,
      "outputs": [
        {
          "output_type": "stream",
          "text": [
            "/usr/local/lib/python3.6/dist-packages/tensorflow/python/keras/engine/training.py:1844: UserWarning: `Model.fit_generator` is deprecated and will be removed in a future version. Please use `Model.fit`, which supports generators.\n",
            "  warnings.warn('`Model.fit_generator` is deprecated and '\n"
          ],
          "name": "stderr"
        },
        {
          "output_type": "stream",
          "text": [
            "Epoch 1/10\n",
            "1/1 [==============================] - 80s 80s/step - loss: 1.2342 - accuracy: 0.3681 - val_loss: 0.8101 - val_accuracy: 0.7812\n",
            "Epoch 2/10\n",
            "1/1 [==============================] - 24s 26s/step - loss: 0.2724 - accuracy: 0.9383 - val_loss: 0.6649 - val_accuracy: 0.6406\n",
            "Epoch 3/10\n",
            "1/1 [==============================] - 24s 25s/step - loss: 0.1649 - accuracy: 0.9450 - val_loss: 0.3376 - val_accuracy: 0.9531\n",
            "Epoch 4/10\n",
            "1/1 [==============================] - 24s 26s/step - loss: 0.0248 - accuracy: 1.0000 - val_loss: 0.3971 - val_accuracy: 0.7812\n",
            "Epoch 5/10\n",
            "1/1 [==============================] - 24s 26s/step - loss: 0.0128 - accuracy: 1.0000 - val_loss: 0.5968 - val_accuracy: 0.7812\n",
            "Epoch 6/10\n",
            "1/1 [==============================] - 25s 23s/step - loss: 0.0276 - accuracy: 1.0000 - val_loss: 0.4738 - val_accuracy: 0.7969\n",
            "Epoch 7/10\n",
            "1/1 [==============================] - 24s 22s/step - loss: 0.0076 - accuracy: 1.0000 - val_loss: 0.3639 - val_accuracy: 0.7656\n",
            "Epoch 8/10\n",
            "1/1 [==============================] - 24s 25s/step - loss: 0.0022 - accuracy: 1.0000 - val_loss: 0.2136 - val_accuracy: 0.8594\n",
            "Epoch 9/10\n",
            "1/1 [==============================] - 24s 21s/step - loss: 0.0013 - accuracy: 1.0000 - val_loss: 0.1138 - val_accuracy: 0.9688\n",
            "Epoch 10/10\n",
            "1/1 [==============================] - 24s 26s/step - loss: 0.0018 - accuracy: 1.0000 - val_loss: 0.0870 - val_accuracy: 1.0000\n"
          ],
          "name": "stdout"
        }
      ]
    },
    {
      "cell_type": "code",
      "metadata": {
        "id": "uJNaoEdiLe4O",
        "colab": {
          "base_uri": "https://localhost:8080/",
          "height": 298
        },
        "outputId": "0f7847d2-5ce7-4dda-fae7-1b335a8e6041"
      },
      "source": [
        "import matplotlib.pyplot as plt\n",
        "acc = history.history['accuracy']\n",
        "val_acc = history.history['val_accuracy']\n",
        "loss = history.history['loss']\n",
        "val_loss = history.history['val_loss']\n",
        "\n",
        "epochs = range(len(acc))\n",
        "\n",
        "plt.plot(epochs, acc, 'r', label='Training accuracy')\n",
        "plt.plot(epochs, val_acc, 'b', label='Validation accuracy')\n",
        "plt.title('Training and validation accuracy')\n",
        "plt.legend(loc=0)\n",
        "plt.figure()\n",
        "\n",
        "\n",
        "\n",
        "plt.show()"
      ],
      "execution_count": null,
      "outputs": [
        {
          "output_type": "display_data",
          "data": {
            "image/png": "[encoded data removed]",
            "text/plain": [
              "<Figure size 432x288 with 1 Axes>"
            ]
          },
          "metadata": {
            "tags": [],
            "needs_background": "light"
          }
        },
        {
          "output_type": "display_data",
          "data": {
            "text/plain": [
              "<Figure size 432x288 with 0 Axes>"
            ]
          },
          "metadata": {
            "tags": []
          }
        }
      ]
    },
    {
      "cell_type": "code",
      "metadata": {
        "id": "6_5gnWtZLrSK",
        "colab": {
          "base_uri": "https://localhost:8080/",
          "height": 316
        },
        "outputId": "b9dae4fe-0d5f-41fb-f533-371d2b6cb52c"
      },
      "source": [
        "plt.plot(epochs, loss, 'r', label='Training loss')\n",
        "plt.plot(epochs, val_loss, 'b', label='Validationloss')\n",
        "plt.title('Training and validation loss')\n",
        "plt.legend(loc=0)\n",
        "plt.figure()"
      ],
      "execution_count": null,
      "outputs": [
        {
          "output_type": "execute_result",
          "data": {
            "text/plain": [
              "<Figure size 432x288 with 0 Axes>"
            ]
          },
          "metadata": {
            "tags": []
          },
          "execution_count": 12
        },
        {
          "output_type": "display_data",
          "data": {
            "image/png": "[encoded data removed]",
            "text/plain": [
              "<Figure size 432x288 with 1 Axes>"
            ]
          },
          "metadata": {
            "tags": [],
            "needs_background": "light"
          }
        },
        {
          "output_type": "display_data",
          "data": {
            "text/plain": [
              "<Figure size 432x288 with 0 Axes>"
            ]
          },
          "metadata": {
            "tags": []
          }
        }
      ]
    },
    {
      "cell_type": "code",
      "metadata": {
        "id": "PZM-bRpMw5zR",
        "colab": {
          "base_uri": "https://localhost:8080/",
          "height": 300
        },
        "outputId": "26e92103-f84d-4d2f-9e3e-92e2aa9b9dee"
      },
      "source": [
        "import matplotlib.pyplot as plt\n",
        "def get_class_string_from_index(index):\n",
        "   for class_string, class_index in validation_generator.class_indices.items():\n",
        "      if class_index == index:\n",
        "         return class_string\n",
        "\n",
        "x, y = next(validation_generator)\n",
        "image = x[0, :, :, :]\n",
        "true_index = np.argmax(y[0])\n",
        "plt.imshow(image)\n",
        "plt.axis('off')\n",
        "plt.show()\n",
        "\n",
        "# Expand the validation image to (1, 224, 224, 3) before predicting the label\n",
        "prediction_scores = model.predict(np.expand_dims(image, axis=0))\n",
        "predicted_index = np.argmax(prediction_scores)\n",
        "print(\"True label: \" + get_class_string_from_index(true_index))\n",
        "print(\"Predicted label: \" + get_class_string_from_index(predicted_index))"
      ],
      "execution_count": null,
      "outputs": [
        {
          "output_type": "stream",
          "text": [
            "Clipping input data to the valid range for imshow with RGB data ([0..1] for floats or [0..255] for integers).\n"
          ],
          "name": "stderr"
        },
        {
          "output_type": "display_data",
          "data": {
            "image/png": "[encoded data removed]",
            "text/plain": [
              "<Figure size 432x288 with 1 Axes>"
            ]
          },
          "metadata": {
            "tags": [],
            "needs_background": "light"
          }
        },
        {
          "output_type": "stream",
          "text": [
            "True label: Rock\n",
            "Predicted label: Rock\n"
          ],
          "name": "stdout"
        }
      ]
    },
    {
      "cell_type": "code",
      "metadata": {
        "id": "_pWLIyLXw7sr",
        "colab": {
          "base_uri": "https://localhost:8080/"
        },
        "outputId": "4361c7f9-c449-4349-ba90-59e18b91690b"
      },
      "source": [
        "import cv2\n",
        "import tensorflow as tf\n",
        "\n",
        "CATEGORIES= ['Paper','Rock','Scissor']\n",
        "def prepare(filepath):\n",
        "    IMG_SIZE=224\n",
        "    img_array=cv2.imread(filepath)\n",
        "    img_array = img_array / 255.0\n",
        "    new_array=cv2.resize(img_array,(IMG_SIZE,IMG_SIZE))\n",
        "    return new_array.reshape(-1,IMG_SIZE,IMG_SIZE,3)\n",
        "\n",
        "prediction = model.predict(prepare('/content/drive/My Drive/Dataset/Scissor/2 (16).jpg'))\n",
        "prediction = np.argmax(prediction,-1)\n",
        "\n",
        "print(prediction)\n",
        "print(CATEGORIES[int(prediction[0])])"
      ],
      "execution_count": null,
      "outputs": [
        {
          "output_type": "stream",
          "text": [
            "[2]\n",
            "Scissor\n"
          ],
          "name": "stdout"
        }
      ]
    },
    {
      "cell_type": "markdown",
      "metadata": {
        "id": "DYSj9IkDQNv3"
      },
      "source": [
        "Testing the model"
      ]
    },
    {
      "cell_type": "code",
      "metadata": {
        "id": "GKVdHNEXgLXE"
      },
      "source": [
        "import cv2\n",
        "import numpy as np\n",
        "import tensorflow as tf\n",
        "import keras\n",
        "from keras import backend as K\n",
        "from keras.optimizers import Adam\n",
        "from keras.metrics import categorical_crossentropy\n",
        "from keras.preprocessing.image import ImageDataGenerator\n",
        "from keras.models import Model\n",
        "from keras.layers import Dense,GlobalAveragePooling2D,Dropout,SeparableConv2D,BatchNormalization, Activation, Dense\n",
        "from keras.applications.mobilenet import MobileNet\n",
        "from keras.optimizers import Adam"
      ],
      "execution_count": 19,
      "outputs": []
    },
    {
      "cell_type": "code",
      "metadata": {
        "id": "eeVA8jAZgM_K",
        "colab": {
          "base_uri": "https://localhost:8080/"
        },
        "outputId": "f4df0c04-3412-48dd-bc07-e793f88ed489"
      },
      "source": [
        "from google.colab import drive\n",
        "drive.mount('/content/drive')"
      ],
      "execution_count": 20,
      "outputs": [
        {
          "output_type": "stream",
          "text": [
            "Drive already mounted at /content/drive; to attempt to forcibly remount, call drive.mount(\"/content/drive\", force_remount=True).\n"
          ],
          "name": "stdout"
        }
      ]
    },
    {
      "cell_type": "code",
      "metadata": {
        "id": "XKmA8owsgQlx"
      },
      "source": [
        "model = tf.keras.models.load_model('/content/drive/My Drive/Models/rockpaper.h5')"
      ],
      "execution_count": 21,
      "outputs": []
    },
    {
      "cell_type": "code",
      "metadata": {
        "colab": {
          "base_uri": "https://localhost:8080/"
        },
        "id": "BMQclU3jPO-7",
        "outputId": "6fb66e84-ebd4-4713-e3c4-7813a34028fb"
      },
      "source": [
        "train_datagen=ImageDataGenerator(preprocessing_function=keras.applications.mobilenet.preprocess_input,\n",
        "                                 validation_split=0.4)\n",
        "\n",
        "train_generator=train_datagen.flow_from_directory('/content/drive/My Drive/Dataset',\n",
        "                                                 target_size=(224,224),\n",
        "                                                 batch_size=64,\n",
        "                                                 class_mode='categorical',\n",
        "                                                 subset='training')\n",
        "\n",
        "\n",
        "validation_generator = train_datagen.flow_from_directory('/content/drive/My Drive/Dataset', # same directory as training data\n",
        "                                                target_size=(224,224),\n",
        "                                                batch_size=64,\n",
        "                                                class_mode='categorical',\n",
        "                                                subset='validation') # set as validation data"
      ],
      "execution_count": 23,
      "outputs": [
        {
          "output_type": "stream",
          "text": [
            "Found 108 images belonging to 3 classes.\n",
            "Found 72 images belonging to 3 classes.\n"
          ],
          "name": "stdout"
        }
      ]
    },
    {
      "cell_type": "code",
      "metadata": {
        "colab": {
          "base_uri": "https://localhost:8080/",
          "height": 300
        },
        "id": "pUEM_HQ4PLbV",
        "outputId": "413a0a2f-5d3a-4016-80a6-bad55ac26ae9"
      },
      "source": [
        "import matplotlib.pyplot as plt\n",
        "def get_class_string_from_index(index):\n",
        "   for class_string, class_index in validation_generator.class_indices.items():\n",
        "      if class_index == index:\n",
        "         return class_string\n",
        "\n",
        "x, y = next(validation_generator)\n",
        "image = x[0, :, :, :]\n",
        "true_index = np.argmax(y[0])\n",
        "plt.imshow(image)\n",
        "plt.axis('off')\n",
        "plt.show()\n",
        "\n",
        "# Expand the validation image to (1, 224, 224, 3) before predicting the label\n",
        "prediction_scores = model.predict(np.expand_dims(image, axis=0))\n",
        "predicted_index = np.argmax(prediction_scores)\n",
        "print(\"True label: \" + get_class_string_from_index(true_index))\n",
        "print(\"Predicted label: \" + get_class_string_from_index(predicted_index))"
      ],
      "execution_count": 24,
      "outputs": [
        {
          "output_type": "stream",
          "text": [
            "Clipping input data to the valid range for imshow with RGB data ([0..1] for floats or [0..255] for integers).\n"
          ],
          "name": "stderr"
        },
        {
          "output_type": "display_data",
          "data": {
            "image/png": "[encoded data removed]",
            "text/plain": [
              "<Figure size 432x288 with 1 Axes>"
            ]
          },
          "metadata": {
            "tags": [],
            "needs_background": "light"
          }
        },
        {
          "output_type": "stream",
          "text": [
            "True label: Scissor\n",
            "Predicted label: Scissor\n"
          ],
          "name": "stdout"
        }
      ]
    },
    {
      "cell_type": "code",
      "metadata": {
        "id": "FiZmm1TTLzDa",
        "colab": {
          "base_uri": "https://localhost:8080/"
        },
        "outputId": "71ca4690-68c2-4220-fc58-df3b4ed9a1ef"
      },
      "source": [
        "import cv2\n",
        "import tensorflow as tf\n",
        "\n",
        "CATEGORIES= ['Paper','Rock','Scissor']\n",
        "def prepare(filepath):\n",
        "    IMG_SIZE=224\n",
        "    img_array=cv2.imread(filepath)\n",
        "    img_array = img_array / 255.0\n",
        "    new_array=cv2.resize(img_array,(IMG_SIZE,IMG_SIZE))\n",
        "    return new_array.reshape(-1,IMG_SIZE,IMG_SIZE,3)\n",
        "\n",
        "prediction = model.predict(prepare('/content/drive/My Drive/Dataset/Scissor/2 (16).jpg'))\n",
        "prediction = np.argmax(prediction,-1)\n",
        "\n",
        "print(prediction)\n",
        "print(CATEGORIES[int(prediction[0])])"
      ],
      "execution_count": 25,
      "outputs": [
        {
          "output_type": "stream",
          "text": [
            "[2]\n",
            "Scissor\n"
          ],
          "name": "stdout"
        }
      ]
    }
  ]
}